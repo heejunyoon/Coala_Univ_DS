{
 "cells": [
  {
   "cell_type": "code",
   "execution_count": 4,
   "metadata": {},
   "outputs": [],
   "source": [
    "data = [(1,5), (1.5,4), (2,3), (3,1), (3,2), (4,1), (5,1.5), (6,2), (6,4), (7,4), (7,5)]\n"
   ]
  },
  {
   "cell_type": "code",
   "execution_count": 5,
   "metadata": {},
   "outputs": [
    {
     "name": "stdout",
     "output_type": "stream",
     "text": [
      "5141.3125\n"
     ]
    }
   ],
   "source": [
    "a = 1\n",
    "b = -1\n",
    "c = 1\n",
    "\n",
    "sums = 0\n",
    "for (x, y) in data:\n",
    "    predict = a * x * x + b * x + c\n",
    "    sums = sums + (y - predict) * (y - predict)\n",
    "    \n",
    "print(sums)"
   ]
  },
  {
   "cell_type": "code",
   "execution_count": null,
   "metadata": {},
   "outputs": [],
   "source": []
  }
 ],
 "metadata": {
  "kernelspec": {
   "display_name": "Python 3",
   "language": "python",
   "name": "python3"
  },
  "language_info": {
   "codemirror_mode": {
    "name": "ipython",
    "version": 3
   },
   "file_extension": ".py",
   "mimetype": "text/x-python",
   "name": "python",
   "nbconvert_exporter": "python",
   "pygments_lexer": "ipython3",
   "version": "3.7.6"
  }
 },
 "nbformat": 4,
 "nbformat_minor": 4
}
